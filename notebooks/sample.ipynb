{
 "cells": [
  {
   "cell_type": "markdown",
   "id": "59e4f4d5",
   "metadata": {},
   "source": [
    "# ZeroShot分類"
   ]
  },
  {
   "cell_type": "code",
   "execution_count": null,
   "id": "656b38c7",
   "metadata": {
    "lines_to_next_cell": 2
   },
   "outputs": [],
   "source": [
    "from llmclassifier import LLMClassifier\n",
    "import pandas as pd\n",
    "from langchain.llms import OpenAI\n",
    "import os\n",
    "\n",
    "# llmの設定\n",
    "llm = OpenAI(model_name=\"gpt-3.5-turbo\", openai_api_key=os.environ[\"OPENAI_API_KEY\"])\n",
    "\n",
    "# タスクの設定\n",
    "task = \"\"\"あなたはニュースのジャンル分類をしています。\n",
    "ニュースのタイトルを読んで、そのジャンルを判断してください。\"\"\"\n",
    "\n",
    "# ラベルの設定\n",
    "classes = [\"金融\", \"芸能\", \"食品\", \"音楽\", \"自動車\", \"経済\", \"政治\", \"スポーツ\", \"IT\", \"エンタメ\", \"科学\", \"国際\", \"地域\", \"健康\", \"教育\", \"お笑い\", \"事件\", \"その他\"]\n",
    "\n",
    "# 入力データの設定\n",
    "inputs = pd.DataFrame([\n",
    "        [\"日本銀行が金利を引き下げる\"],\n",
    "        [\"ユーチューバーMUKAKINが「みんな有料会員になって」と自身のチャンネルで発言し話題に\"],\n",
    "        [\"雲印、新製品「体いきいきヨーグルト」発売。体内フローラを整える\"],\n",
    "        [\"麦津犬歯、新曲「入れもん」MV公開。曲に合わせて入れ物に残った匂いを嗅ぐ内容\"],\n",
    "        [\"TOYBOTAが大幅な方針転換を発表。全ての水上自動車を電気自動車にする。来年2024年までに切り替えを完了する\"],\n",
    "        [\"三月の鉄鋼市況は、前月比で鉄鋼製品の生産量は前年同月比で1.5％減少し、鉄鋼製品の販売量は前年同月比で1.1％減少した。\"],\n",
    "    ],\n",
    "    columns=[\"ニュースタイトル\"])\n",
    "\n",
    "# annotatorの設定\n",
    "clsf = LLMClassifier(llm=llm, task=task, classes=classes, multi_label=False)"
   ]
  },
  {
   "cell_type": "code",
   "execution_count": null,
   "id": "26cd9aed",
   "metadata": {},
   "outputs": [],
   "source": [
    "# 結果の取得\n",
    "y_pred = clsf.predict(inputs, return_wrapper=False)\n",
    "outputs = clsf.predict(inputs, return_wrapper=True)\n",
    "print(f\"アノテーション結果のindex:\\n{y_pred}\")\n",
    "display(pd.concat([inputs, outputs.get_df()], axis=1))"
   ]
  },
  {
   "cell_type": "markdown",
   "id": "b50224a2",
   "metadata": {},
   "source": [
    "# FewShot分類"
   ]
  },
  {
   "cell_type": "code",
   "execution_count": null,
   "id": "a5c5e767",
   "metadata": {},
   "outputs": [],
   "source": [
    "X_train = pd.DataFrame([\n",
    "        [\"日銀が引き続き金利の引き上げを行うことを表明。\"],\n",
    "        [\"ユーチューバー柴田が「世界のみんなを助けたい」と世界平和を訴える\"],\n",
    "        [\"乳酸菌飲料の睡眠効果を調査。統計的に有意なことが確認された\"],\n",
    "        [\"放課後音楽クラブがゲーム「パチモン」のED「パチモンしりとり」を発表\"],\n",
    "        [\"MISSANが全ての自動車にリチウムバッテリーを搭載すると発表\"],\n",
    "        [\"供給不足が解消しガソリン市場急落。前月比5%の値下がりを記録\"],\n",
    "    ],\n",
    "    columns=[\"ニュースタイトル\"])\n",
    "y_train = [\"政治\", \"お笑い\", \"地域\", \"国際\", \"事件\", \"その他\"]"
   ]
  },
  {
   "cell_type": "code",
   "execution_count": null,
   "id": "bc9e337c",
   "metadata": {},
   "outputs": [],
   "source": [
    "clsf.fit(X_train, y_train)\n",
    "outputs = clsf.predict(inputs, return_wrapper=True)\n",
    "display(pd.concat([inputs, outputs.get_df()], axis=1))"
   ]
  },
  {
   "cell_type": "markdown",
   "id": "2d9725dc",
   "metadata": {},
   "source": [
    "# LlamaIndexをつかった分類"
   ]
  },
  {
   "cell_type": "code",
   "execution_count": null,
   "id": "931e6290",
   "metadata": {},
   "outputs": [],
   "source": [
    "clsf.fit(X_train, y_train, use_index=True)\n",
    "outputs = clsf.predict(inputs, return_wrapper=True)\n",
    "display(pd.concat([inputs, outputs.get_df()], axis=1))"
   ]
  },
  {
   "cell_type": "code",
   "execution_count": null,
   "id": "0c899040",
   "metadata": {},
   "outputs": [],
   "source": [
    "from llmclassifier import LLMTranslator"
   ]
  },
  {
   "cell_type": "code",
   "execution_count": null,
   "id": "e1e60ba3",
   "metadata": {},
   "outputs": [],
   "source": []
  }
 ],
 "metadata": {
  "jupytext": {
   "cell_metadata_filter": "-all",
   "custom_cell_magics": "kql",
   "encoding": "# -*- coding: utf-8 -*-"
  },
  "kernelspec": {
   "display_name": "exbert",
   "language": "python",
   "name": "python3"
  },
  "language_info": {
   "codemirror_mode": {
    "name": "ipython",
    "version": 3
   },
   "file_extension": ".py",
   "mimetype": "text/x-python",
   "name": "python",
   "nbconvert_exporter": "python",
   "pygments_lexer": "ipython3",
   "version": "3.10.9"
  }
 },
 "nbformat": 4,
 "nbformat_minor": 5
}
